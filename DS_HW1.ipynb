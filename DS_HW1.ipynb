{
 "cells": [
  {
   "cell_type": "code",
   "execution_count": 11,
   "metadata": {
    "collapsed": true
   },
   "outputs": [],
   "source": [
    "import csv\n"
   ]
  },
  {
   "cell_type": "code",
   "execution_count": null,
   "metadata": {
    "collapsed": true
   },
   "outputs": [],
   "source": []
  },
  {
   "cell_type": "code",
   "execution_count": 12,
   "metadata": {
    "collapsed": false
   },
   "outputs": [],
   "source": [
    "import requests\n",
    "r = requests.get('https://raw.githubusercontent.com/fivethirtyeight/data/master/nfl-ticket-prices/2014-average-ticket-price.csv')\n",
    "data = [row for row in csv.reader(r.iter_lines())]\n",
    "data = data[1:97]\n",
    "\n",
    "events = [row[0] for row in data]       # grab the first element of each row\n",
    "\n",
    "prices = [int(row[2]) for row in data]  # cast to an int before storing the price\n"
   ]
  },
  {
   "cell_type": "code",
   "execution_count": 14,
   "metadata": {
    "collapsed": false,
    "scrolled": true
   },
   "outputs": [],
   "source": [
    "import numpy as np"
   ]
  },
  {
   "cell_type": "code",
   "execution_count": 15,
   "metadata": {
    "collapsed": false
   },
   "outputs": [
    {
     "name": "stdout",
     "output_type": "stream",
     "text": [
      "135.229166667\n"
     ]
    }
   ],
   "source": [
    "#Step #3\n",
    "print np.mean(prices)"
   ]
  },
  {
   "cell_type": "code",
   "execution_count": 103,
   "metadata": {
    "collapsed": false
   },
   "outputs": [],
   "source": [
    "#Step #4, step # 5\n",
    "away_teams=[]\n",
    "home_teams = []\n",
    "for e in events:\n",
    "    #print e[1:3]\n",
    "    temp_home = e.find('Tickets')\n",
    "    temp_away = e.find(' at ')\n",
    "    away_teams.append(e[0:temp_away])\n",
    "    home_teams.append(e[temp_away+3:temp_home-1])\n"
   ]
  },
  {
   "cell_type": "code",
   "execution_count": 100,
   "metadata": {
    "collapsed": false
   },
   "outputs": [
    {
     "name": "stdout",
     "output_type": "stream",
     "text": [
      "['Baltimore Ravens', 'Pittsburgh Steelers', 'Cleveland Browns', 'Cincinnati Bengals', 'Pittsburgh Steelers', 'Cleveland Browns', 'Cincinnati Bengals', 'Cleveland Browns', 'Pittsburgh Steelers', 'Baltimore Ravens', 'Baltimore Ravens', 'Cincinnati Bengals', 'Miami Dolphins', 'Buffalo Bills', 'New York Jets', 'New England Patriots', 'Miami Dolphins', 'New England Patriots', 'New York Jets', 'New England Patriots', 'Buffalo Bills', 'Buffalo Bills', 'New York Jets', 'Miami Dolphins', 'San Diego Chargers', 'Kansas City Chiefs', 'Oakland Raiders', 'Denver Broncos', 'Oakland Raiders', 'Denver Broncos', 'Kansas City Chiefs', 'Denver Broncos', 'San Diego Chargers', 'San Diego Chargers', 'Oakland Raiders', 'Kansas City Chiefs', 'Indianapolis Colts', 'Jacksonville Jaguars', 'Tennessee Titans', 'Houston Texans', 'Jacksonville Jaguars', 'Tennessee Titans', 'Indianapolis Colts', 'Indianapolis Colts', 'Houston Texans', 'Houston Texans', 'Jacksonville Jaguars', 'Tennessee Titans', 'Green Bay Packers', 'Chicago Bears', 'Minnesota Vikings', 'Detroit Lions', 'Chicago Bears', 'Detroit Lions', 'Green Bay Packers', 'Green Bay Packers', 'Detroit Lions', 'Chicago Bears', 'Minnesota Vikings', 'Minnesota Vikings', 'Dallas Cowboys', 'Dallas Cowboys', 'Philadelphia Eagles', 'New York Giants', 'Washington Redskins', 'Philadelphia Eagles', 'New York Giants', 'Dallas Cowboys', 'Washington Redskins', 'Washington Redskins', 'Philadelphia Eagles', 'New York Giants', 'San Francisco 49ers', 'Seattle Seahawks', 'St Louis Rams', 'Arizona Cardinals', 'Arizona Cardinals', 'St Louis Rams', 'Seattle Seahawks', 'San Francisco 49ers', 'St Louis Rams', 'San Francisco 49ers', 'Seattle Seahawks', 'Arizona Cardinals', 'Atlanta Falcons', 'New Orleans Saints', 'Tampa Bay Buccaneers', 'New Orleans Saints', 'Atlanta Falcons', 'Carolina Panthers', 'New Orleans Saints', 'Atlanta Falcons', 'Carolina Panthers', 'Tampa Bay Buccaneers', 'Tampa Bay Buccaneers', 'Arizona Cardinals']\n",
      "[' Pittsburgh Steelers', ' Baltimore Ravens', ' Pittsburgh Steelers', ' Pittsburgh Steelers', ' Cleveland Browns', ' Baltimore Ravens', ' Baltimore Ravens', ' Cincinnati Bengals', ' Cincinnati Bengals', ' Cleveland Browns', ' Cincinnati Bengals', ' Cleveland Browns', ' New England Patriots', ' New England Patriots', ' New England Patriots', ' Buffalo Bills', ' Buffalo Bills', ' Miami Dolphins', ' Miami Dolphins', ' New York Jets', ' Miami Dolphins', ' New York Jets', ' Buffalo Bills', ' New York Jets', ' Denver Broncos', ' Denver Broncos', ' Denver Broncos', ' San Diego Chargers', ' San Diego Chargers', ' Kansas City Chiefs', ' San Diego Chargers', ' Oakland Raiders', ' Oakland Raiders', ' Kansas City Chiefs', ' Kansas City Chiefs', ' Oakland Raiders', ' Houston Texans', ' Houston Texans', ' Houston Texans', ' Indianapolis Colts', ' Indianapolis Colts', ' Indianapolis Colts', ' Jacksonville Jaguars', ' Tennessee Titans', ' Tennessee Titans', ' Jacksonville Jaguars', ' Tennessee Titans', ' Jacksonville Jaguars', ' Chicago Bears', ' Green Bay Packers', ' Chicago Bears', ' Green Bay Packers', ' Detroit Lions', ' Chicago Bears', ' Minnesota Vikings', ' Detroit Lions', ' Minnesota Vikings', ' Minnesota Vikings', ' Green Bay Packers', ' Detroit Lions', ' Philadelphia Eagles', ' New York Giants', ' Dallas Cowboys', ' Philadelphia Eagles', ' Philadelphia Eagles', ' New York Giants', ' Dallas Cowboys', ' Washington Redskins', ' Dallas Cowboys', ' New York Giants', ' Washington Redskins', ' Washington Redskins', ' Seattle Seahawks', ' San Francisco 49ers', ' Seattle Seahawks', ' Seattle Seahawks', ' San Francisco 49ers', ' San Francisco 49ers', ' Arizona Cardinals', ' Arizona Cardinals', ' Arizona Cardinals', ' St Louis Rams', ' St Louis Rams', ' St Louis Rams', ' New Orleans Saints', ' Atlanta Falcons', ' New Orleans Saints', ' Carolina Panthers', ' Carolina Panthers', ' Atlanta Falcons', ' Tampa Bay Buccaneers', ' Tampa Bay Buccaneers', ' Tampa Bay Buccaneers', ' Atlanta Falcons', ' Carolina Panthers', ' Atlanta Falcons']\n"
     ]
    }
   ],
   "source": [
    "print away_teams\n",
    "print home_teams"
   ]
  },
  {
   "cell_type": "code",
   "execution_count": 102,
   "metadata": {
    "collapsed": false
   },
   "outputs": [
    {
     "name": "stdout",
     "output_type": "stream",
     "text": [
      "[184, 139, 76]\n",
      "133.0\n"
     ]
    }
   ],
   "source": [
    "#step 7\n",
    "Moneys_home = []\n",
    "zipped = zip(home_teams,prices)\n",
    "for e in zipped:\n",
    "    if e[0] == ' Arizona Cardinals':\n",
    "        Moneys_home.append(e[1])\n",
    "Avg_home=np.mean(Moneys_home)\n",
    "print Moneys_home\n",
    "print Avg_home"
   ]
  },
  {
   "cell_type": "code",
   "execution_count": 99,
   "metadata": {
    "collapsed": false
   },
   "outputs": [
    {
     "name": "stdout",
     "output_type": "stream",
     "text": [
      "[210, 202, 29, 44]\n",
      "121.25\n"
     ]
    }
   ],
   "source": [
    "Moneys_away = []\n",
    "zipped = zip(away_teams,prices)\n",
    "for e in zipped:\n",
    "    if e[0] == 'Arizona Cardinals':\n",
    "        Moneys_away.append(e[1])\n",
    "Avg_away=np.mean(Moneys_away)\n",
    "print Moneys_away\n",
    "print Avg_away"
   ]
  },
  {
   "cell_type": "code",
   "execution_count": null,
   "metadata": {
    "collapsed": true
   },
   "outputs": [],
   "source": []
  },
  {
   "cell_type": "code",
   "execution_count": 89,
   "metadata": {
    "collapsed": false
   },
   "outputs": [
    {
     "name": "stdout",
     "output_type": "stream",
     "text": [
      "['Baltimore Ravens at Pittsburgh Steelers Tickets on 02-Nov-2014 (9037819)', 'Pittsburgh Steelers at Baltimore Ravens Tickets on 11-Sep-2014 (9037835)', 'Cleveland Browns at Pittsburgh Steelers Tickets on 07-Sep-2014 (9037806)', 'Cincinnati Bengals at Pittsburgh Steelers Tickets on 28-Dec-2014 (9037828)', 'Pittsburgh Steelers at Cleveland Browns Tickets on 12-Oct-2014 (9037890)', 'Cleveland Browns at Baltimore Ravens Tickets on 28-Dec-2014 (9037845)', 'Cincinnati Bengals at Baltimore Ravens Tickets on 07-Sep-2014 (9037833)', 'Cleveland Browns at Cincinnati Bengals Tickets on 06-Nov-2014 (9037858)', 'Pittsburgh Steelers at Cincinnati Bengals Tickets on 07-Dec-2014 (9037859)', 'Baltimore Ravens at Cleveland Browns Tickets on 21-Sep-2014 (9037889)', 'Baltimore Ravens at Cincinnati Bengals Tickets on 26-Oct-2014 (9037854)', 'Cincinnati Bengals at Cleveland Browns Tickets on 14-Dec-2014 (9037903)', 'Miami Dolphins at New England Patriots Tickets on 14-Dec-2014 (9037705)', 'Buffalo Bills at New England Patriots Tickets on 28-Dec-2014 (9037709)', 'New York Jets at New England Patriots Tickets on 16-Oct-2014 (9037693)', 'New England Patriots at Buffalo Bills Tickets on 12-Oct-2014 (9037803)', 'Miami Dolphins at Buffalo Bills Tickets on 14-Sep-2014 (9037796)', 'New England Patriots at Miami Dolphins Tickets on 07-Sep-2014 (9037759)', 'New York Jets at Miami Dolphins Tickets on 28-Dec-2014 (9037779)', 'New England Patriots at New York Jets Tickets on 21-Dec-2014 (9037745)', 'Buffalo Bills at Miami Dolphins Tickets on 13-Nov-2014 (9037769)', 'Buffalo Bills at New York Jets Tickets on 26-Oct-2014 (9037732)', 'New York Jets at Buffalo Bills Tickets on 23-Nov-2014 (9037809) *', 'Miami Dolphins at New York Jets Tickets on 01-Dec-2014 (9037741)', 'San Diego Chargers at Denver Broncos Tickets on 23-Oct-2014 (9037694)', 'Kansas City Chiefs at Denver Broncos Tickets on 14-Sep-2014 (9037677)', 'Oakland Raiders at Denver Broncos Tickets on 28-Dec-2014 (9037710)', 'Denver Broncos at San Diego Chargers Tickets on 14-Dec-2014 (9037791)', 'Oakland Raiders at San Diego Chargers Tickets on 16-Nov-2014 (9037788)', 'Denver Broncos at Kansas City Chiefs Tickets on 30-Nov-2014 (9037752)', 'Kansas City Chiefs at San Diego Chargers Tickets on 19-Oct-2014 (9037787)', 'Denver Broncos at Oakland Raiders Tickets on 09-Nov-2014 (9037876)', 'San Diego Chargers at Oakland Raiders Tickets on 12-Oct-2014 (9037869)', 'San Diego Chargers at Kansas City Chiefs Tickets on 28-Dec-2014 (9037757)', 'Oakland Raiders at Kansas City Chiefs Tickets on 14-Dec-2014 (9037754)', 'Kansas City Chiefs at Oakland Raiders Tickets on 20-Nov-2014 (9037880)', 'Indianapolis Colts at Houston Texans Tickets on 09-Oct-2014 (9037891)', 'Jacksonville Jaguars at Houston Texans Tickets on 28-Dec-2014 (9037907)', 'Tennessee Titans at Houston Texans Tickets on 30-Nov-2014 (9037900)', 'Houston Texans at Indianapolis Colts Tickets on 14-Dec-2014 (9037871)', 'Jacksonville Jaguars at Indianapolis Colts Tickets on 23-Nov-2014 (9037866)', 'Tennessee Titans at Indianapolis Colts Tickets on 28-Sep-2014 (9037848)', 'Indianapolis Colts at Jacksonville Jaguars Tickets on 21-Sep-2014 (9037917)', 'Indianapolis Colts at Tennessee Titans Tickets on 28-Dec-2014 (9037946)', 'Houston Texans at Tennessee Titans Tickets on 26-Oct-2014 (9037931)', 'Houston Texans at Jacksonville Jaguars Tickets on 07-Dec-2014 (9037933)', 'Jacksonville Jaguars at Tennessee Titans Tickets on 12-Oct-2014 (9037926)', 'Tennessee Titans at Jacksonville Jaguars Tickets on 18-Dec-2014 (9037937)', 'Green Bay Packers at Chicago Bears Tickets on 28-Sep-2014 (9037834)', 'Chicago Bears at Green Bay Packers Tickets on 09-Nov-2014 (9037875)', 'Minnesota Vikings at Chicago Bears Tickets on 16-Nov-2014 (9037840)', 'Detroit Lions at Green Bay Packers Tickets on 28-Dec-2014 (9037885)', 'Chicago Bears at Detroit Lions Tickets on 27-Nov-2014 (9037912)', 'Detroit Lions at Chicago Bears Tickets on 21-Dec-2014 (9037852)', 'Green Bay Packers at Minnesota Vikings Tickets on 23-Nov-2014 (9037942)', 'Green Bay Packers at Detroit Lions Tickets on 21-Sep-2014 (9037902)', 'Detroit Lions at Minnesota Vikings Tickets on 12-Oct-2014 (9037938)', 'Chicago Bears at Minnesota Vikings Tickets on 28-Dec-2014 (9037947)', 'Minnesota Vikings at Green Bay Packers Tickets on 02-Oct-2014 (9037870)', 'Minnesota Vikings at Detroit Lions Tickets on 14-Dec-2014 (9037915)', 'Dallas Cowboys at Philadelphia Eagles Tickets on 14-Dec-2014 (9037728)', 'Dallas Cowboys at New York Giants Tickets on 23-Nov-2014 (9037751)', 'Philadelphia Eagles at Dallas Cowboys Tickets on 27-Nov-2014 (9037692)', 'New York Giants at Philadelphia Eagles Tickets on 12-Oct-2014 (9037718)', 'Washington Redskins at Philadelphia Eagles Tickets on 21-Sep-2014 (9037713)', 'Philadelphia Eagles at New York Giants Tickets on 28-Dec-2014 (9037755)', 'New York Giants at Dallas Cowboys Tickets on 19-Oct-2014 (9037683)', 'Dallas Cowboys at Washington Redskins Tickets on 28-Dec-2014 (9037786)', 'Washington Redskins at Dallas Cowboys Tickets on 27-Oct-2014 (9037686)', 'Washington Redskins at New York Giants Tickets on 14-Dec-2014 (9037753)', 'Philadelphia Eagles at Washington Redskins Tickets on 20-Dec-2014 (9037783)', 'New York Giants at Washington Redskins Tickets on 25-Sep-2014 (9037768)', 'San Francisco 49ers at Seattle Seahawks Tickets on 14-Dec-2014 (9037740)', 'Seattle Seahawks at San Francisco 49ers Tickets on 27-Nov-2014 (9037701)', 'St Louis Rams at Seattle Seahawks Tickets on 28-Dec-2014 (9037742)', 'Arizona Cardinals at Seattle Seahawks Tickets on 23-Nov-2014 (9037736)', 'Arizona Cardinals at San Francisco 49ers Tickets on 28-Dec-2014 (9037708)', 'St Louis Rams at San Francisco 49ers Tickets on 02-Nov-2014 (9037691)', 'Seattle Seahawks at Arizona Cardinals Tickets on 21-Dec-2014 (9037792)', 'San Francisco 49ers at Arizona Cardinals Tickets on 21-Sep-2014 (9037763)', 'St Louis Rams at Arizona Cardinals Tickets on 09-Nov-2014 (9037777)', 'San Francisco 49ers at St Louis Rams Tickets on 13-Oct-2014 (9037804)', 'Seattle Seahawks at St Louis Rams Tickets on 19-Oct-2014 (9037808)', 'Arizona Cardinals at St Louis Rams Tickets on 11-Dec-2014 (9037816)', 'Atlanta Falcons at New Orleans Saints Tickets on 21-Dec-2014 (9037941)', 'New Orleans Saints at Atlanta Falcons Tickets on 07-Sep-2014 (9037955)', 'Tampa Bay Buccaneers at New Orleans Saints Tickets on 05-Oct-2014 (9037914)', 'New Orleans Saints at Carolina Panthers Tickets on 30-Oct-2014 (9037827)', 'Atlanta Falcons at Carolina Panthers Tickets on 16-Nov-2014 (9037829)', 'Carolina Panthers at Atlanta Falcons Tickets on 28-Dec-2014 (9037967)', 'New Orleans Saints at Tampa Bay Buccaneers Tickets on 28-Dec-2014 (9037964)', 'Atlanta Falcons at Tampa Bay Buccaneers Tickets on 09-Nov-2014 (9037960)', 'Carolina Panthers at Tampa Bay Buccaneers Tickets on 07-Sep-2014 (9037952)', 'Tampa Bay Buccaneers at Atlanta Falcons Tickets on 18-Sep-2014 (9037957)', 'Tampa Bay Buccaneers at Carolina Panthers Tickets on 14-Dec-2014 (9037831)', 'Arizona Cardinals at Atlanta Falcons Tickets on 30-Nov-2014 (9037965)']\n"
     ]
    }
   ],
   "source": [
    "print events\n"
   ]
  },
  {
   "cell_type": "code",
   "execution_count": null,
   "metadata": {
    "collapsed": true
   },
   "outputs": [],
   "source": []
  },
  {
   "cell_type": "code",
   "execution_count": null,
   "metadata": {
    "collapsed": true
   },
   "outputs": [],
   "source": []
  },
  {
   "cell_type": "code",
   "execution_count": null,
   "metadata": {
    "collapsed": true
   },
   "outputs": [],
   "source": []
  },
  {
   "cell_type": "code",
   "execution_count": null,
   "metadata": {
    "collapsed": true
   },
   "outputs": [],
   "source": []
  },
  {
   "cell_type": "code",
   "execution_count": null,
   "metadata": {
    "collapsed": true
   },
   "outputs": [],
   "source": []
  },
  {
   "cell_type": "code",
   "execution_count": null,
   "metadata": {
    "collapsed": true
   },
   "outputs": [],
   "source": []
  },
  {
   "cell_type": "code",
   "execution_count": null,
   "metadata": {
    "collapsed": true
   },
   "outputs": [],
   "source": []
  },
  {
   "cell_type": "code",
   "execution_count": null,
   "metadata": {
    "collapsed": true
   },
   "outputs": [],
   "source": []
  },
  {
   "cell_type": "code",
   "execution_count": null,
   "metadata": {
    "collapsed": true
   },
   "outputs": [],
   "source": []
  },
  {
   "cell_type": "code",
   "execution_count": null,
   "metadata": {
    "collapsed": true
   },
   "outputs": [],
   "source": []
  },
  {
   "cell_type": "code",
   "execution_count": null,
   "metadata": {
    "collapsed": true
   },
   "outputs": [],
   "source": []
  },
  {
   "cell_type": "code",
   "execution_count": null,
   "metadata": {
    "collapsed": true
   },
   "outputs": [],
   "source": []
  },
  {
   "cell_type": "code",
   "execution_count": null,
   "metadata": {
    "collapsed": true
   },
   "outputs": [],
   "source": []
  },
  {
   "cell_type": "code",
   "execution_count": null,
   "metadata": {
    "collapsed": true
   },
   "outputs": [],
   "source": []
  },
  {
   "cell_type": "code",
   "execution_count": null,
   "metadata": {
    "collapsed": true
   },
   "outputs": [],
   "source": []
  },
  {
   "cell_type": "code",
   "execution_count": null,
   "metadata": {
    "collapsed": true
   },
   "outputs": [],
   "source": []
  },
  {
   "cell_type": "code",
   "execution_count": null,
   "metadata": {
    "collapsed": true
   },
   "outputs": [],
   "source": []
  },
  {
   "cell_type": "code",
   "execution_count": null,
   "metadata": {
    "collapsed": true
   },
   "outputs": [],
   "source": []
  },
  {
   "cell_type": "code",
   "execution_count": null,
   "metadata": {
    "collapsed": true
   },
   "outputs": [],
   "source": []
  },
  {
   "cell_type": "code",
   "execution_count": null,
   "metadata": {
    "collapsed": true
   },
   "outputs": [],
   "source": []
  },
  {
   "cell_type": "code",
   "execution_count": null,
   "metadata": {
    "collapsed": true
   },
   "outputs": [],
   "source": []
  },
  {
   "cell_type": "code",
   "execution_count": null,
   "metadata": {
    "collapsed": true
   },
   "outputs": [],
   "source": []
  },
  {
   "cell_type": "code",
   "execution_count": null,
   "metadata": {
    "collapsed": true
   },
   "outputs": [],
   "source": []
  },
  {
   "cell_type": "code",
   "execution_count": null,
   "metadata": {
    "collapsed": true
   },
   "outputs": [],
   "source": []
  },
  {
   "cell_type": "code",
   "execution_count": null,
   "metadata": {
    "collapsed": true
   },
   "outputs": [],
   "source": []
  },
  {
   "cell_type": "code",
   "execution_count": null,
   "metadata": {
    "collapsed": true
   },
   "outputs": [],
   "source": []
  },
  {
   "cell_type": "code",
   "execution_count": null,
   "metadata": {
    "collapsed": true
   },
   "outputs": [],
   "source": []
  },
  {
   "cell_type": "code",
   "execution_count": null,
   "metadata": {
    "collapsed": true
   },
   "outputs": [],
   "source": []
  },
  {
   "cell_type": "code",
   "execution_count": null,
   "metadata": {
    "collapsed": true
   },
   "outputs": [],
   "source": []
  },
  {
   "cell_type": "code",
   "execution_count": null,
   "metadata": {
    "collapsed": true
   },
   "outputs": [],
   "source": []
  },
  {
   "cell_type": "code",
   "execution_count": null,
   "metadata": {
    "collapsed": true
   },
   "outputs": [],
   "source": []
  },
  {
   "cell_type": "code",
   "execution_count": null,
   "metadata": {
    "collapsed": true
   },
   "outputs": [],
   "source": []
  },
  {
   "cell_type": "code",
   "execution_count": null,
   "metadata": {
    "collapsed": true
   },
   "outputs": [],
   "source": []
  },
  {
   "cell_type": "code",
   "execution_count": null,
   "metadata": {
    "collapsed": true
   },
   "outputs": [],
   "source": []
  },
  {
   "cell_type": "code",
   "execution_count": null,
   "metadata": {
    "collapsed": true
   },
   "outputs": [],
   "source": []
  },
  {
   "cell_type": "code",
   "execution_count": null,
   "metadata": {
    "collapsed": true
   },
   "outputs": [],
   "source": []
  },
  {
   "cell_type": "code",
   "execution_count": 23,
   "metadata": {
    "collapsed": false
   },
   "outputs": [
    {
     "data": {
      "text/plain": [
       "2"
      ]
     },
     "execution_count": 23,
     "metadata": {},
     "output_type": "execute_result"
    }
   ],
   "source": [
    "practice_string=['apple','orange','pear']\n",
    "'apple'.find('pl')\n",
    "\n"
   ]
  },
  {
   "cell_type": "code",
   "execution_count": null,
   "metadata": {
    "collapsed": true
   },
   "outputs": [],
   "source": []
  },
  {
   "cell_type": "code",
   "execution_count": null,
   "metadata": {
    "collapsed": true
   },
   "outputs": [],
   "source": []
  },
  {
   "cell_type": "code",
   "execution_count": null,
   "metadata": {
    "collapsed": true
   },
   "outputs": [],
   "source": []
  },
  {
   "cell_type": "code",
   "execution_count": null,
   "metadata": {
    "collapsed": true
   },
   "outputs": [],
   "source": []
  },
  {
   "cell_type": "code",
   "execution_count": null,
   "metadata": {
    "collapsed": true
   },
   "outputs": [],
   "source": []
  },
  {
   "cell_type": "code",
   "execution_count": null,
   "metadata": {
    "collapsed": true
   },
   "outputs": [],
   "source": []
  }
 ],
 "metadata": {
  "kernelspec": {
   "display_name": "Python 2",
   "language": "python",
   "name": "python2"
  },
  "language_info": {
   "codemirror_mode": {
    "name": "ipython",
    "version": 2
   },
   "file_extension": ".py",
   "mimetype": "text/x-python",
   "name": "python",
   "nbconvert_exporter": "python",
   "pygments_lexer": "ipython2",
   "version": "2.7.10"
  }
 },
 "nbformat": 4,
 "nbformat_minor": 0
}
